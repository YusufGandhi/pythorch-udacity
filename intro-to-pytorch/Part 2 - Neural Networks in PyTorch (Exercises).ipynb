{
 "cells": [
  {
   "cell_type": "markdown",
   "metadata": {},
   "source": [
    "# Neural networks with PyTorch\n",
    "\n",
    "Deep learning networks tend to be massive with dozens or hundreds of layers, that's where the term \"deep\" comes from. You can build one of these deep networks using only weight matrices as we did in the previous notebook, but in general it's very cumbersome and difficult to implement. PyTorch has a nice module `nn` that provides a nice way to efficiently build large neural networks."
   ]
  },
  {
   "cell_type": "code",
   "execution_count": 1,
   "metadata": {},
   "outputs": [],
   "source": [
    "# Import necessary packages\n",
    "\n",
    "%matplotlib inline\n",
    "%config InlineBackend.figure_format = 'retina'\n",
    "\n",
    "import numpy as np\n",
    "import torch\n",
    "\n",
    "import helper\n",
    "\n",
    "import matplotlib.pyplot as plt"
   ]
  },
  {
   "cell_type": "markdown",
   "metadata": {},
   "source": [
    "\n",
    "Now we're going to build a larger network that can solve a (formerly) difficult problem, identifying text in an image. Here we'll use the MNIST dataset which consists of greyscale handwritten digits. Each image is 28x28 pixels, you can see a sample below\n",
    "\n",
    "<img src='assets/mnist.png'>\n",
    "\n",
    "Our goal is to build a neural network that can take one of these images and predict the digit in the image.\n",
    "\n",
    "First up, we need to get our dataset. This is provided through the `torchvision` package. The code below will download the MNIST dataset, then create training and test datasets for us. Don't worry too much about the details here, you'll learn more about this later."
   ]
  },
  {
   "cell_type": "code",
   "execution_count": 2,
   "metadata": {},
   "outputs": [
    {
     "name": "stdout",
     "output_type": "stream",
     "text": [
      "Downloading http://yann.lecun.com/exdb/mnist/train-images-idx3-ubyte.gz\n",
      "Downloading http://yann.lecun.com/exdb/mnist/train-labels-idx1-ubyte.gz\n",
      "Downloading http://yann.lecun.com/exdb/mnist/t10k-images-idx3-ubyte.gz\n",
      "Downloading http://yann.lecun.com/exdb/mnist/t10k-labels-idx1-ubyte.gz\n",
      "Processing...\n",
      "Done!\n"
     ]
    }
   ],
   "source": [
    "### Run this cell\n",
    "\n",
    "from torchvision import datasets, transforms\n",
    "\n",
    "# Define a transform to normalize the data\n",
    "transform = transforms.Compose([transforms.ToTensor(),\n",
    "                              transforms.Normalize((0.5,), (0.5,)),\n",
    "                              ])\n",
    "\n",
    "# Download and load the training data\n",
    "trainset = datasets.MNIST('~/.pytorch/MNIST_data/', download=True, train=True, transform=transform)\n",
    "trainloader = torch.utils.data.DataLoader(trainset, batch_size=64, shuffle=True)"
   ]
  },
  {
   "cell_type": "markdown",
   "metadata": {},
   "source": [
    "We have the training data loaded into `trainloader` and we make that an iterator with `iter(trainloader)`. Later, we'll use this to loop through the dataset for training, like\n",
    "\n",
    "```python\n",
    "for image, label in trainloader:\n",
    "    ## do things with images and labels\n",
    "```\n",
    "\n",
    "You'll notice I created the `trainloader` with a batch size of 64, and `shuffle=True`. The batch size is the number of images we get in one iteration from the data loader and pass through our network, often called a *batch*. And `shuffle=True` tells it to shuffle the dataset every time we start going through the data loader again. But here I'm just grabbing the first batch so we can check out the data. We can see below that `images` is just a tensor with size `(64, 1, 28, 28)`. So, 64 images per batch, 1 color channel, and 28x28 images."
   ]
  },
  {
   "cell_type": "code",
   "execution_count": 3,
   "metadata": {},
   "outputs": [
    {
     "name": "stdout",
     "output_type": "stream",
     "text": [
      "<class 'torch.Tensor'>\n",
      "torch.Size([64, 1, 28, 28])\n",
      "torch.Size([64])\n"
     ]
    }
   ],
   "source": [
    "dataiter = iter(trainloader)\n",
    "images, labels = dataiter.next()\n",
    "print(type(images))\n",
    "print(images.shape)\n",
    "print(labels.shape)"
   ]
  },
  {
   "cell_type": "markdown",
   "metadata": {},
   "source": [
    "This is what one of the images looks like. "
   ]
  },
  {
   "cell_type": "code",
   "execution_count": 4,
   "metadata": {},
   "outputs": [
    {
     "data": {
      "image/png": "[encoded data removed]",
      "text/plain": [
       "<Figure size 432x288 with 1 Axes>"
      ]
     },
     "metadata": {
      "image/png": {
       "height": 250,
       "width": 253
      },
      "needs_background": "light"
     },
     "output_type": "display_data"
    }
   ],
   "source": [
    "plt.imshow(images[1].numpy().squeeze(), cmap='Greys_r');"
   ]
  },
  {
   "cell_type": "markdown",
   "metadata": {},
   "source": [
    "First, let's try to build a simple network for this dataset using weight matrices and matrix multiplications. Then, we'll see how to do it using PyTorch's `nn` module which provides a much more convenient and powerful method for defining network architectures.\n",
    "\n",
    "The networks you've seen so far are called *fully-connected* or *dense* networks. Each unit in one layer is connected to each unit in the next layer. In fully-connected networks, the input to each layer must be a one-dimensional vector (which can be stacked into a 2D tensor as a batch of multiple examples). However, our images are 28x28 2D tensors, so we need to convert them into 1D vectors. Thinking about sizes, we need to convert the batch of images with shape `(64, 1, 28, 28)` to a have a shape of `(64, 784)`, 784 is 28 times 28. This is typically called *flattening*, we flattened the 2D images into 1D vectors.\n",
    "\n",
    "Previously you built a network with one output unit. Here we need 10 output units, one for each digit. We want our network to predict the digit shown in an image, so what we'll do is calculate probabilities that the image is of any one digit or class. This ends up being a discrete probability distribution over the classes (digits) that tells us the most likely class for the image. That means we need 10 output units for the 10 classes (digits). We'll see how to convert the network output into a probability distribution next.\n",
    "\n",
    "> **Exercise:** Flatten the batch of images `images`. Then build a multi-layer network with 784 input units, 256 hidden units, and 10 output units using random tensors for the weights and biases. For now, use a sigmoid activation for the hidden layer. Leave the output layer without an activation, we'll add one that gives us a probability distribution next."
   ]
  },
  {
   "cell_type": "code",
   "execution_count": 13,
   "metadata": {},
   "outputs": [
    {
     "data": {
      "text/plain": [
       "tensor([[ 1.8710e+01,  4.4745e+00, -6.3319e+00, -5.1889e+00, -6.7562e+00,\n",
       "         -1.1408e+01, -6.5501e+00,  6.3281e+00, -1.4213e+01, -2.1498e+01],\n",
       "        [ 1.8461e+01, -8.3577e+00, -2.3020e+00, -1.1901e+01, -2.2834e+00,\n",
       "         -8.9677e+00, -1.3065e+00,  1.2677e+00, -9.2573e+00, -1.7039e+01],\n",
       "        [ 1.3261e+01, -3.9672e+00, -2.1308e+00, -6.7368e+00,  1.6273e+00,\n",
       "         -1.0202e+01, -5.9988e+00, -4.8886e+00, -8.1890e+00, -1.4414e+01],\n",
       "        [ 1.3426e+01,  1.0151e+00, -3.3017e+00, -1.2595e+01,  2.7176e+00,\n",
       "         -6.8469e+00, -1.0312e+01, -5.7097e-01, -8.8894e+00, -9.9743e+00],\n",
       "        [ 1.4038e+01,  4.3287e+00, -4.9485e+00, -9.2506e+00, -4.5398e+00,\n",
       "         -1.3232e+01, -4.5304e+00,  1.0267e+00, -1.4048e+01, -1.2752e+01],\n",
       "        [ 1.4130e+01, -3.7614e+00, -4.3277e+00, -1.4105e+01, -8.6547e+00,\n",
       "         -2.1943e+01, -5.7928e+00,  7.5545e+00, -1.9607e+01, -1.0938e+01],\n",
       "        [ 1.0036e+01,  7.2228e+00,  5.8298e+00, -1.3034e+01, -4.7328e+00,\n",
       "         -1.7557e+01, -1.5516e+01, -2.0992e+00, -1.5125e+01, -1.8297e+01],\n",
       "        [ 2.3237e+01, -2.9418e+00, -1.8469e+01, -1.1251e+01, -4.6637e-01,\n",
       "         -2.4343e+00, -1.9120e+01, -1.0041e+00, -9.1547e+00, -1.8380e+01],\n",
       "        [ 1.7469e+01,  7.6489e+00, -8.7917e+00, -1.4225e+01, -4.1320e+00,\n",
       "         -1.3909e+01, -1.5797e+01,  5.3125e+00, -1.0104e+01, -1.5390e+01],\n",
       "        [ 1.0650e+01, -6.6619e+00, -8.3696e+00, -9.2680e+00, -9.1236e+00,\n",
       "         -1.1187e+01, -2.3016e+00,  4.0810e-01, -8.6029e+00, -1.5103e+01],\n",
       "        [ 1.5674e+01,  1.9926e+00, -1.4048e+01, -1.5248e+01, -4.4983e+00,\n",
       "         -6.5241e+00, -7.0052e+00, -2.7600e+00, -1.2473e+01, -1.2146e+01],\n",
       "        [ 1.4314e+01,  9.7740e+00, -6.4387e+00, -1.3810e+01, -6.7529e+00,\n",
       "         -1.5163e+01, -7.9180e+00,  4.7758e+00, -1.3898e+01, -1.2739e+01],\n",
       "        [ 1.2859e+01, -1.8199e+01,  5.1826e+00, -1.5059e+01,  2.1345e+00,\n",
       "         -1.1973e+01, -8.5121e+00, -7.8722e+00, -1.7014e+01, -1.0910e+01],\n",
       "        [ 1.6413e+01, -6.1569e-01, -1.2747e+01, -4.8343e+00, -1.6853e+00,\n",
       "         -1.3205e+01, -9.3116e+00,  7.2601e+00, -1.6269e+01, -1.6780e+01],\n",
       "        [ 1.4729e+01,  7.9388e+00, -5.3741e+00, -1.7018e+01, -1.3171e+01,\n",
       "         -9.9770e+00, -6.1895e+00,  8.8194e-01, -7.1988e+00, -1.1703e+01],\n",
       "        [ 1.5633e+01, -8.5049e+00, -8.8704e+00, -1.3278e+01, -4.4571e+00,\n",
       "         -2.2739e+01, -6.9306e+00,  3.9969e+00, -6.3230e+00, -1.1836e+01],\n",
       "        [ 1.3549e+01, -2.3490e+00, -9.2442e+00, -1.5462e+01, -1.3895e+01,\n",
       "         -1.3452e+01, -1.5891e+01,  6.0845e+00, -1.6541e+01, -1.5803e+01],\n",
       "        [ 1.7297e+01, -3.7060e+00, -1.3508e+01, -6.4860e+00, -6.2610e+00,\n",
       "         -1.8802e+01, -7.5918e+00,  6.7073e+00, -8.7402e+00, -2.1661e+01],\n",
       "        [ 1.3640e+01,  9.2391e-01, -9.9564e+00, -4.0785e+00, -1.4973e+00,\n",
       "         -4.9155e+00, -1.6399e+01, -1.1424e+00, -8.3092e+00, -2.3231e+01],\n",
       "        [ 1.7615e+01, -1.6545e+01, -8.1427e+00, -1.1717e+01, -4.8335e+00,\n",
       "         -1.9337e+01, -2.1827e+01,  8.3482e+00, -2.2299e+01, -1.5311e+01],\n",
       "        [ 1.1804e+01, -7.4998e+00, -6.4188e+00, -1.8953e+01,  2.3462e+00,\n",
       "         -1.4003e+01, -8.7585e+00, -3.1922e-01, -1.7193e+01, -1.0578e+01],\n",
       "        [ 1.4102e+01, -9.1792e+00, -4.9102e+00, -6.2232e+00,  6.7221e-01,\n",
       "         -1.1447e+01, -1.2432e+01,  3.7582e+00, -5.0723e+00, -2.1710e+01],\n",
       "        [ 2.2283e+01,  4.9309e+00,  1.6511e+00, -1.5703e+01,  1.1433e+00,\n",
       "         -1.1545e+01, -1.2369e+01,  3.1209e+00, -1.4686e+01, -2.3535e+01],\n",
       "        [ 1.9970e+01, -8.3538e+00, -4.1624e+00, -1.8695e+01, -6.5205e+00,\n",
       "         -1.2421e+01, -3.8148e+00,  1.8310e+00, -2.4810e+01, -2.0238e+01],\n",
       "        [ 1.9714e+01, -2.6668e+00, -6.4636e+00, -1.1737e+01, -9.5468e-02,\n",
       "         -1.0829e+01, -1.4521e+01,  3.7340e+00, -8.2061e+00, -2.9104e+00],\n",
       "        [ 1.2610e+01, -6.7798e+00, -1.0810e+01, -1.4101e+01, -1.3966e+00,\n",
       "         -1.3531e+01, -1.4836e+01, -2.3327e+00, -1.3800e+01, -1.3357e+01],\n",
       "        [ 2.6380e+01, -8.9936e+00, -1.1656e+00, -1.1792e+01, -5.5339e+00,\n",
       "         -1.1549e+01, -3.9628e+00, -1.4537e+00, -1.2548e+01, -9.0975e+00],\n",
       "        [ 1.4022e+01, -4.2206e+00, -3.4775e-01, -7.2913e+00, -1.1453e+00,\n",
       "         -1.7474e+01, -7.6808e+00, -1.8017e+00, -1.9865e+01, -1.2453e+01],\n",
       "        [ 1.8265e+01, -8.4906e+00, -5.0770e+00, -1.2723e+00, -5.3503e+00,\n",
       "         -1.9880e+01, -8.2607e+00,  9.5594e-02, -6.4523e+00, -1.8477e+01],\n",
       "        [ 1.7203e+01, -2.0286e+00,  1.2953e+00, -4.6977e+00,  2.8074e+00,\n",
       "         -1.2547e+01, -8.8603e+00, -1.7467e+00, -4.1821e+00, -1.7726e+01],\n",
       "        [ 1.2793e+01,  4.1732e+00, -1.0860e+00, -1.8433e+01, -2.9248e-01,\n",
       "         -2.4271e+01, -1.1866e+01, -2.1937e+00, -1.4444e+01, -1.3959e+01],\n",
       "        [ 1.6121e+01, -4.3621e+00, -2.7228e+00, -1.6617e+01, -8.9695e+00,\n",
       "         -1.4483e+01, -7.2918e+00, -2.8721e+00, -1.2192e+01, -1.6299e+01],\n",
       "        [ 1.0490e+01, -6.9227e+00, -7.2642e+00, -1.5924e+01, -1.9601e+00,\n",
       "         -1.3412e+01, -1.6027e+01,  9.8481e+00, -1.5464e+01, -2.1579e+01],\n",
       "        [ 1.4175e+01, -4.3221e+00, -1.2200e+01, -1.9116e+01, -9.4294e+00,\n",
       "         -1.9305e+01,  2.7872e+00,  5.5836e+00, -1.9754e+01, -1.5899e+01],\n",
       "        [ 1.7154e+01, -1.9235e+00, -1.1364e+01, -1.0302e+01, -1.6608e+00,\n",
       "         -1.6835e+01, -7.0930e+00, -1.1259e+00, -9.4701e+00, -1.5234e+01],\n",
       "        [ 1.4776e+01,  1.7495e-01, -1.1398e+01, -1.4286e+01, -8.6878e+00,\n",
       "         -1.6189e+01, -8.2796e+00,  4.0108e+00, -1.4001e+01, -2.0985e+01],\n",
       "        [ 1.0512e+01, -1.0256e+01, -4.7128e+00, -1.9372e+01,  5.4336e+00,\n",
       "         -1.0572e+01, -8.7785e+00, -6.2928e+00, -1.5136e+01, -1.6337e+01],\n",
       "        [ 1.4907e+01,  1.8405e+00,  8.1563e+00, -1.1481e+01, -2.6358e+00,\n",
       "         -2.5633e+01, -8.0067e+00,  2.7668e+00, -1.6394e+01, -1.0353e+01],\n",
       "        [ 1.6063e+01, -1.0243e+01, -8.2644e+00, -1.1437e+01, -1.1481e+01,\n",
       "         -2.0126e+01,  4.4227e-01,  6.0827e+00, -1.9430e+01, -1.3515e+01],\n",
       "        [ 5.5512e+00, -5.1763e+00, -7.2524e+00, -9.8433e+00, -3.9708e+00,\n",
       "         -1.5150e+01, -7.0088e+00, -3.7524e-01, -1.8013e+01, -1.0407e+01],\n",
       "        [ 2.1171e+01, -1.2812e+01, -5.6458e+00, -1.1132e+01, -6.0114e+00,\n",
       "         -2.0406e+01, -8.0196e+00,  1.1346e-01, -1.8337e+01, -1.2607e+01],\n",
       "        [ 2.2410e+01,  1.4624e-01, -1.1338e+01, -6.4622e+00, -9.7896e+00,\n",
       "         -6.4257e+00, -1.0934e+01, -3.3404e+00, -7.1189e+00, -1.5771e+01],\n",
       "        [ 1.4383e+01,  3.8059e-01, -9.4273e+00, -1.9363e+01,  1.3784e+00,\n",
       "         -8.7281e+00, -7.7325e+00, -2.8136e+00, -1.3569e+01, -7.2848e+00],\n",
       "        [ 1.4860e+01, -5.0447e+00, -6.2522e+00, -9.4354e+00, -7.7191e+00,\n",
       "         -1.4385e+01, -2.9958e+00, -3.4544e+00, -1.9574e+01,  9.6881e-02],\n",
       "        [ 9.5837e+00,  1.1613e+00, -9.7255e+00, -1.2936e+01,  5.5217e+00,\n",
       "         -1.4603e+01, -1.4480e+01,  5.4111e-01, -2.0601e+01, -2.4296e+01],\n",
       "        [ 1.5881e+01,  1.1873e+01, -8.0775e+00, -2.2219e+01,  5.8879e+00,\n",
       "         -1.7975e+01, -9.4547e+00,  3.0986e+00, -1.5689e+01, -1.4684e+01],\n",
       "        [ 1.7971e+01, -5.7240e+00, -1.2962e+01, -2.0038e+01, -2.1297e+01,\n",
       "         -1.3850e+01, -3.3523e+00,  2.1594e+00, -1.2199e+01, -2.4972e+01],\n",
       "        [ 9.3198e+00, -5.2674e-01, -9.5717e+00, -7.2157e+00,  6.2778e-01,\n",
       "         -1.8303e+01,  1.0110e+00, -6.3996e-01, -1.8549e+01, -4.6299e+00],\n",
       "        [ 1.1709e+01,  5.7049e+00,  4.2001e+00, -1.0316e+01, -4.6119e+00,\n",
       "         -1.3548e+01, -5.7744e+00,  2.3864e+00, -1.5031e+01, -1.3822e+01],\n",
       "        [ 8.7143e+00, -3.3729e+00, -2.6591e+00, -6.9380e+00,  6.2924e-01,\n",
       "         -1.7916e+01,  2.7061e+00, -5.0947e-02, -2.2000e+01, -6.0314e+00],\n",
       "        [ 1.8403e+01,  3.2697e+00, -8.6191e+00, -8.5925e+00,  3.4651e+00,\n",
       "         -9.7598e+00, -6.9445e+00,  3.1907e+00, -1.7651e+01, -1.0257e+01],\n",
       "        [ 1.8965e+01, -1.2423e+01, -8.7417e+00, -6.9373e+00, -1.3043e+01,\n",
       "         -1.6492e+01, -4.5011e+00,  4.3822e-01, -1.2340e+01, -1.2830e+01],\n",
       "        [ 1.5508e+01,  9.3421e+00, -6.8132e+00, -1.6562e+01,  5.7033e+00,\n",
       "         -2.2007e+01, -1.3162e+01,  1.8784e-01, -4.8360e+00, -1.5145e+01],\n",
       "        [ 2.2164e+01,  4.2795e-01, -4.6698e+00, -1.1289e+01, -7.5014e+00,\n",
       "         -2.3680e+01,  1.7716e+00,  2.5624e+00, -1.5423e+01, -1.8770e+01],\n",
       "        [ 1.9732e+01, -8.8645e+00, -3.1630e+00, -1.9588e+01, -6.4615e+00,\n",
       "         -1.3028e+01, -3.7841e+00,  1.0984e+01, -3.8953e-01, -2.3605e+01],\n",
       "        [ 1.8383e+01, -1.2653e+01, -7.2351e+00, -2.6042e+00, -2.2989e+00,\n",
       "         -1.8037e+01, -1.1392e+01,  3.2486e+00, -1.0855e+01, -1.8034e+01],\n",
       "        [ 1.8162e+01, -1.8392e+00, -1.1022e+01, -1.3172e+01,  2.4343e+00,\n",
       "         -7.0366e+00, -9.6059e+00, -3.6645e+00, -5.4735e+00, -2.1066e+01],\n",
       "        [ 1.7531e+01, -2.0359e+00, -4.0221e+00, -1.3573e+01, -7.3118e+00,\n",
       "         -2.1381e+01, -1.9697e+00,  9.9491e+00, -2.0549e+01, -1.8795e+01],\n",
       "        [ 2.5277e+01, -1.9121e+00, -1.5570e+01, -5.5400e+00, -8.9814e+00,\n",
       "         -1.6441e+01, -6.2406e+00,  1.5348e+00, -1.2677e+01, -1.8080e+01],\n",
       "        [ 7.0384e+00, -9.0958e+00, -9.2442e+00, -8.9613e+00, -2.4956e-02,\n",
       "         -1.8715e+01,  2.9736e+00,  3.7862e+00, -2.0393e+01, -9.0268e+00],\n",
       "        [ 1.4448e+01,  1.0767e+01, -1.1370e+01, -1.4464e+01,  2.2175e+00,\n",
       "         -1.2555e+01, -6.8741e+00,  8.6353e-01, -1.8332e+01, -2.2360e+01],\n",
       "        [ 2.3972e+01, -3.3593e-01, -5.1268e-01, -1.2269e+01,  1.4162e+00,\n",
       "         -1.6882e+01, -8.5746e+00, -2.1404e+00, -8.5442e+00, -1.3698e+01],\n",
       "        [ 1.1943e+01, -2.5069e+00, -7.4748e+00, -6.4358e+00, -1.3787e+01,\n",
       "         -1.3107e+01, -1.0876e+01,  8.9566e+00, -1.7803e+01, -1.7650e+01],\n",
       "        [ 1.5020e+01, -5.2751e+00, -9.5394e+00, -1.3406e+01, -1.1103e+01,\n",
       "         -1.8649e+01, -1.3502e+00,  6.1757e+00, -2.1260e+01, -1.9794e+01]])"
      ]
     },
     "execution_count": 13,
     "metadata": {},
     "output_type": "execute_result"
    }
   ],
   "source": [
    "## Your solution\n",
    "def activation(x):\n",
    "    return 1/(1+torch.exp(-x))\n",
    "\n",
    "inputs = images.view(images.shape[0], 784) # can use -1 according to the solution\n",
    "\n",
    "n_input = 784\n",
    "n_hidden = 256\n",
    "n_output = 10\n",
    "\n",
    "w1 = torch.randn(n_input, n_hidden)\n",
    "b1 = torch.randn(n_hidden)\n",
    "\n",
    "w2 = torch.randn(n_hidden, n_output)\n",
    "b2 = torch.randn(n_output)\n",
    "\n",
    "h = activation(torch.mm(inputs, w1) + b1)\n",
    "\n",
    "out = torch.mm(h, w2) + b2\n",
    "out"
   ]
  },
  {
   "cell_type": "markdown",
   "metadata": {},
   "source": [
    "Now we have 10 outputs for our network. We want to pass in an image to our network and get out a probability distribution over the classes that tells us the likely class(es) the image belongs to. Something that looks like this:\n",
    "<img src='assets/image_distribution.png' width=500px>\n",
    "\n",
    "Here we see that the probability for each class is roughly the same. This is representing an untrained network, it hasn't seen any data yet so it just returns a uniform distribution with equal probabilities for each class.\n",
    "\n",
    "To calculate this probability distribution, we often use the [**softmax** function](https://en.wikipedia.org/wiki/Softmax_function). Mathematically this looks like\n",
    "\n",
    "$$\n",
    "\\Large \\sigma(x_i) = \\cfrac{e^{x_i}}{\\sum_k^K{e^{x_k}}}\n",
    "$$\n",
    "\n",
    "What this does is squish each input $x_i$ between 0 and 1 and normalizes the values to give you a proper probability distribution where the probabilites sum up to one.\n",
    "\n",
    "> **Exercise:** Implement a function `softmax` that performs the softmax calculation and returns probability distributions for each example in the batch. Note that you'll need to pay attention to the shapes when doing this. If you have a tensor `a` with shape `(64, 10)` and a tensor `b` with shape `(64,)`, doing `a/b` will give you an error because PyTorch will try to do the division across the columns (called broadcasting) but you'll get a size mismatch. The way to think about this is for each of the 64 examples, you only want to divide by one value, the sum in the denominator. So you need `b` to have a shape of `(64, 1)`. This way PyTorch will divide the 10 values in each row of `a` by the one value in each row of `b`. Pay attention to how you take the sum as well. You'll need to define the `dim` keyword in `torch.sum`. Setting `dim=0` takes the sum across the rows while `dim=1` takes the sum across the columns."
   ]
  },
  {
   "cell_type": "code",
   "execution_count": 23,
   "metadata": {},
   "outputs": [
    {
     "name": "stdout",
     "output_type": "stream",
     "text": [
      "torch.Size([64, 10])\n"
     ]
    },
    {
     "ename": "RuntimeError",
     "evalue": "The size of tensor a (10) must match the size of tensor b (64) at non-singleton dimension 1",
     "output_type": "error",
     "traceback": [
      "\u001b[0;31m---------------------------------------------------------------------------\u001b[0m",
      "\u001b[0;31mRuntimeError\u001b[0m                              Traceback (most recent call last)",
      "\u001b[0;32m<ipython-input-23-eacaf3200e85>\u001b[0m in \u001b[0;36m<module>\u001b[0;34m\u001b[0m\n\u001b[1;32m      4\u001b[0m \u001b[0;34m\u001b[0m\u001b[0m\n\u001b[1;32m      5\u001b[0m \u001b[0;31m# Here, out should be the output of the network in the previous excercise with shape (64,10)\u001b[0m\u001b[0;34m\u001b[0m\u001b[0;34m\u001b[0m\u001b[0;34m\u001b[0m\u001b[0m\n\u001b[0;32m----> 6\u001b[0;31m \u001b[0mprobabilities\u001b[0m \u001b[0;34m=\u001b[0m \u001b[0msoftmax\u001b[0m\u001b[0;34m(\u001b[0m\u001b[0mout\u001b[0m\u001b[0;34m)\u001b[0m\u001b[0;34m\u001b[0m\u001b[0;34m\u001b[0m\u001b[0m\n\u001b[0m\u001b[1;32m      7\u001b[0m \u001b[0;34m\u001b[0m\u001b[0m\n\u001b[1;32m      8\u001b[0m \u001b[0;31m# Does it have the right shape? Should be (64, 10)\u001b[0m\u001b[0;34m\u001b[0m\u001b[0;34m\u001b[0m\u001b[0;34m\u001b[0m\u001b[0m\n",
      "\u001b[0;32m<ipython-input-23-eacaf3200e85>\u001b[0m in \u001b[0;36msoftmax\u001b[0;34m(x)\u001b[0m\n\u001b[1;32m      1\u001b[0m \u001b[0;32mdef\u001b[0m \u001b[0msoftmax\u001b[0m\u001b[0;34m(\u001b[0m\u001b[0mx\u001b[0m\u001b[0;34m)\u001b[0m\u001b[0;34m:\u001b[0m\u001b[0;34m\u001b[0m\u001b[0;34m\u001b[0m\u001b[0m\n\u001b[1;32m      2\u001b[0m     \u001b[0mprint\u001b[0m\u001b[0;34m(\u001b[0m\u001b[0mx\u001b[0m\u001b[0;34m.\u001b[0m\u001b[0mshape\u001b[0m\u001b[0;34m)\u001b[0m\u001b[0;34m\u001b[0m\u001b[0;34m\u001b[0m\u001b[0m\n\u001b[0;32m----> 3\u001b[0;31m     \u001b[0;32mreturn\u001b[0m \u001b[0mtorch\u001b[0m\u001b[0;34m.\u001b[0m\u001b[0mexp\u001b[0m\u001b[0;34m(\u001b[0m\u001b[0mx\u001b[0m\u001b[0;34m)\u001b[0m\u001b[0;34m/\u001b[0m\u001b[0mtorch\u001b[0m\u001b[0;34m.\u001b[0m\u001b[0msum\u001b[0m\u001b[0;34m(\u001b[0m\u001b[0mtorch\u001b[0m\u001b[0;34m.\u001b[0m\u001b[0mexp\u001b[0m\u001b[0;34m(\u001b[0m\u001b[0mx\u001b[0m\u001b[0;34m)\u001b[0m\u001b[0;34m,\u001b[0m \u001b[0mdim\u001b[0m\u001b[0;34m=\u001b[0m\u001b[0;36m1\u001b[0m\u001b[0;34m)\u001b[0m\u001b[0;34m\u001b[0m\u001b[0;34m\u001b[0m\u001b[0m\n\u001b[0m\u001b[1;32m      4\u001b[0m \u001b[0;34m\u001b[0m\u001b[0m\n\u001b[1;32m      5\u001b[0m \u001b[0;31m# Here, out should be the output of the network in the previous excercise with shape (64,10)\u001b[0m\u001b[0;34m\u001b[0m\u001b[0;34m\u001b[0m\u001b[0;34m\u001b[0m\u001b[0m\n",
      "\u001b[0;31mRuntimeError\u001b[0m: The size of tensor a (10) must match the size of tensor b (64) at non-singleton dimension 1"
     ]
    }
   ],
   "source": [
    "def softmax(x):\n",
    "    print(x.shape)\n",
    "    return torch.exp(x)/torch.sum(torch.exp(x), dim=1)\n",
    "\n",
    "# Here, out should be the output of the network in the previous excercise with shape (64,10)\n",
    "probabilities = softmax(out)\n",
    "\n",
    "# Does it have the right shape? Should be (64, 10)\n",
    "print(probabilities.shape)\n",
    "# Does it sum to 1?\n",
    "print(probabilities.sum(dim=1))"
   ]
  },
  {
   "cell_type": "markdown",
   "metadata": {},
   "source": [
    "## Building networks with PyTorch\n",
    "\n",
    "PyTorch provides a module `nn` that makes building networks much simpler. Here I'll show you how to build the same one as above with 784 inputs, 256 hidden units, 10 output units and a softmax output."
   ]
  },
  {
   "cell_type": "code",
   "execution_count": null,
   "metadata": {
    "collapsed": true
   },
   "outputs": [],
   "source": [
    "from torch import nn"
   ]
  },
  {
   "cell_type": "code",
   "execution_count": null,
   "metadata": {
    "collapsed": true
   },
   "outputs": [],
   "source": [
    "class Network(nn.Module):\n",
    "    def __init__(self):\n",
    "        super().__init__()\n",
    "        \n",
    "        # Inputs to hidden layer linear transformation\n",
    "        self.hidden = nn.Linear(784, 256)\n",
    "        # Output layer, 10 units - one for each digit\n",
    "        self.output = nn.Linear(256, 10)\n",
    "        \n",
    "        # Define sigmoid activation and softmax output \n",
    "        self.sigmoid = nn.Sigmoid()\n",
    "        self.softmax = nn.Softmax(dim=1)\n",
    "        \n",
    "    def forward(self, x):\n",
    "        # Pass the input tensor through each of our operations\n",
    "        x = self.hidden(x)\n",
    "        x = self.sigmoid(x)\n",
    "        x = self.output(x)\n",
    "        x = self.softmax(x)\n",
    "        \n",
    "        return x"
   ]
  },
  {
   "cell_type": "markdown",
   "metadata": {},
   "source": [
    "Let's go through this bit by bit.\n",
    "\n",
    "```python\n",
    "class Network(nn.Module):\n",
    "```\n",
    "\n",
    "Here we're inheriting from `nn.Module`. Combined with `super().__init__()` this creates a class that tracks the architecture and provides a lot of useful methods and attributes. It is mandatory to inherit from `nn.Module` when you're creating a class for your network. The name of the class itself can be anything.\n",
    "\n",
    "```python\n",
    "self.hidden = nn.Linear(784, 256)\n",
    "```\n",
    "\n",
    "This line creates a module for a linear transformation, $x\\mathbf{W} + b$, with 784 inputs and 256 outputs and assigns it to `self.hidden`. The module automatically creates the weight and bias tensors which we'll use in the `forward` method. You can access the weight and bias tensors once the network (`net`) is created with `net.hidden.weight` and `net.hidden.bias`.\n",
    "\n",
    "```python\n",
    "self.output = nn.Linear(256, 10)\n",
    "```\n",
    "\n",
    "Similarly, this creates another linear transformation with 256 inputs and 10 outputs.\n",
    "\n",
    "```python\n",
    "self.sigmoid = nn.Sigmoid()\n",
    "self.softmax = nn.Softmax(dim=1)\n",
    "```\n",
    "\n",
    "Here I defined operations for the sigmoid activation and softmax output. Setting `dim=1` in `nn.Softmax(dim=1)` calculates softmax across the columns.\n",
    "\n",
    "```python\n",
    "def forward(self, x):\n",
    "```\n",
    "\n",
    "PyTorch networks created with `nn.Module` must have a `forward` method defined. It takes in a tensor `x` and passes it through the operations you defined in the `__init__` method.\n",
    "\n",
    "```python\n",
    "x = self.hidden(x)\n",
    "x = self.sigmoid(x)\n",
    "x = self.output(x)\n",
    "x = self.softmax(x)\n",
    "```\n",
    "\n",
    "Here the input tensor `x` is passed through each operation and reassigned to `x`. We can see that the input tensor goes through the hidden layer, then a sigmoid function, then the output layer, and finally the softmax function. It doesn't matter what you name the variables here, as long as the inputs and outputs of the operations match the network architecture you want to build. The order in which you define things in the `__init__` method doesn't matter, but you'll need to sequence the operations correctly in the `forward` method.\n",
    "\n",
    "Now we can create a `Network` object."
   ]
  },
  {
   "cell_type": "code",
   "execution_count": null,
   "metadata": {
    "collapsed": true
   },
   "outputs": [],
   "source": [
    "# Create the network and look at it's text representation\n",
    "model = Network()\n",
    "model"
   ]
  },
  {
   "cell_type": "markdown",
   "metadata": {},
   "source": [
    "You can define the network somewhat more concisely and clearly using the `torch.nn.functional` module. This is the most common way you'll see networks defined as many operations are simple element-wise functions. We normally import this module as `F`, `import torch.nn.functional as F`."
   ]
  },
  {
   "cell_type": "code",
   "execution_count": null,
   "metadata": {
    "collapsed": true
   },
   "outputs": [],
   "source": [
    "import torch.nn.functional as F\n",
    "\n",
    "class Network(nn.Module):\n",
    "    def __init__(self):\n",
    "        super().__init__()\n",
    "        # Inputs to hidden layer linear transformation\n",
    "        self.hidden = nn.Linear(784, 256)\n",
    "        # Output layer, 10 units - one for each digit\n",
    "        self.output = nn.Linear(256, 10)\n",
    "        \n",
    "    def forward(self, x):\n",
    "        # Hidden layer with sigmoid activation\n",
    "        x = F.sigmoid(self.hidden(x))\n",
    "        # Output layer with softmax activation\n",
    "        x = F.softmax(self.output(x), dim=1)\n",
    "        \n",
    "        return x"
   ]
  },
  {
   "cell_type": "markdown",
   "metadata": {},
   "source": [
    "### Activation functions\n",
    "\n",
    "So far we've only been looking at the sigmoid activation function, but in general any function can be used as an activation function. The only requirement is that for a network to approximate a non-linear function, the activation functions must be non-linear. Here are a few more examples of common activation functions: Tanh (hyperbolic tangent), and ReLU (rectified linear unit).\n",
    "\n",
    "<img src=\"assets/activation.png\" width=700px>\n",
    "\n",
    "In practice, the ReLU function is used almost exclusively as the activation function for hidden layers."
   ]
  },
  {
   "cell_type": "markdown",
   "metadata": {},
   "source": [
    "### Your Turn to Build a Network\n",
    "\n",
    "<img src=\"assets/mlp_mnist.png\" width=600px>\n",
    "\n",
    "> **Exercise:** Create a network with 784 input units, a hidden layer with 128 units and a ReLU activation, then a hidden layer with 64 units and a ReLU activation, and finally an output layer with a softmax activation as shown above. You can use a ReLU activation with the `nn.ReLU` module or `F.relu` function.\n",
    "\n",
    "It's good practice to name your layers by their type of network, for instance 'fc' to represent a fully-connected layer. As you code your solution, use `fc1`, `fc2`, and `fc3` as your layer names."
   ]
  },
  {
   "cell_type": "code",
   "execution_count": null,
   "metadata": {
    "collapsed": true,
    "scrolled": true
   },
   "outputs": [],
   "source": [
    "## Your solution here\n"
   ]
  },
  {
   "cell_type": "markdown",
   "metadata": {},
   "source": [
    "### Initializing weights and biases\n",
    "\n",
    "The weights and such are automatically initialized for you, but it's possible to customize how they are initialized. The weights and biases are tensors attached to the layer you defined, you can get them with `model.fc1.weight` for instance."
   ]
  },
  {
   "cell_type": "code",
   "execution_count": null,
   "metadata": {
    "collapsed": true
   },
   "outputs": [],
   "source": [
    "print(model.fc1.weight)\n",
    "print(model.fc1.bias)"
   ]
  },
  {
   "cell_type": "markdown",
   "metadata": {},
   "source": [
    "For custom initialization, we want to modify these tensors in place. These are actually autograd *Variables*, so we need to get back the actual tensors with `model.fc1.weight.data`. Once we have the tensors, we can fill them with zeros (for biases) or random normal values."
   ]
  },
  {
   "cell_type": "code",
   "execution_count": null,
   "metadata": {
    "collapsed": true
   },
   "outputs": [],
   "source": [
    "# Set biases to all zeros\n",
    "model.fc1.bias.data.fill_(0)"
   ]
  },
  {
   "cell_type": "code",
   "execution_count": null,
   "metadata": {
    "collapsed": true
   },
   "outputs": [],
   "source": [
    "# sample from random normal with standard dev = 0.01\n",
    "model.fc1.weight.data.normal_(std=0.01)"
   ]
  },
  {
   "cell_type": "markdown",
   "metadata": {},
   "source": [
    "### Forward pass\n",
    "\n",
    "Now that we have a network, let's see what happens when we pass in an image."
   ]
  },
  {
   "cell_type": "code",
   "execution_count": null,
   "metadata": {
    "collapsed": true
   },
   "outputs": [],
   "source": [
    "# Grab some data \n",
    "dataiter = iter(trainloader)\n",
    "images, labels = dataiter.next()\n",
    "\n",
    "# Resize images into a 1D vector, new shape is (batch size, color channels, image pixels) \n",
    "images.resize_(64, 1, 784)\n",
    "# or images.resize_(images.shape[0], 1, 784) to automatically get batch size\n",
    "\n",
    "# Forward pass through the network\n",
    "img_idx = 0\n",
    "ps = model.forward(images[img_idx,:])\n",
    "\n",
    "img = images[img_idx]\n",
    "helper.view_classify(img.view(1, 28, 28), ps)"
   ]
  },
  {
   "cell_type": "markdown",
   "metadata": {},
   "source": [
    "As you can see above, our network has basically no idea what this digit is. It's because we haven't trained it yet, all the weights are random!\n",
    "\n",
    "### Using `nn.Sequential`\n",
    "\n",
    "PyTorch provides a convenient way to build networks like this where a tensor is passed sequentially through operations, `nn.Sequential` ([documentation](https://pytorch.org/docs/master/nn.html#torch.nn.Sequential)). Using this to build the equivalent network:"
   ]
  },
  {
   "cell_type": "code",
   "execution_count": null,
   "metadata": {
    "collapsed": true
   },
   "outputs": [],
   "source": [
    "# Hyperparameters for our network\n",
    "input_size = 784\n",
    "hidden_sizes = [128, 64]\n",
    "output_size = 10\n",
    "\n",
    "# Build a feed-forward network\n",
    "model = nn.Sequential(nn.Linear(input_size, hidden_sizes[0]),\n",
    "                      nn.ReLU(),\n",
    "                      nn.Linear(hidden_sizes[0], hidden_sizes[1]),\n",
    "                      nn.ReLU(),\n",
    "                      nn.Linear(hidden_sizes[1], output_size),\n",
    "                      nn.Softmax(dim=1))\n",
    "print(model)\n",
    "\n",
    "# Forward pass through the network and display output\n",
    "images, labels = next(iter(trainloader))\n",
    "images.resize_(images.shape[0], 1, 784)\n",
    "ps = model.forward(images[0,:])\n",
    "helper.view_classify(images[0].view(1, 28, 28), ps)"
   ]
  },
  {
   "cell_type": "markdown",
   "metadata": {},
   "source": [
    "Here our model is the same as before: 784 input units, a hidden layer with 128 units, ReLU activation, 64 unit hidden layer, another ReLU, then the output layer with 10 units, and the softmax output.\n",
    "\n",
    "The operations are available by passing in the appropriate index. For example, if you want to get first Linear operation and look at the weights, you'd use `model[0]`."
   ]
  },
  {
   "cell_type": "code",
   "execution_count": null,
   "metadata": {
    "collapsed": true
   },
   "outputs": [],
   "source": [
    "print(model[0])\n",
    "model[0].weight"
   ]
  },
  {
   "cell_type": "markdown",
   "metadata": {},
   "source": [
    "You can also pass in an `OrderedDict` to name the individual layers and operations, instead of using incremental integers. Note that dictionary keys must be unique, so _each operation must have a different name_."
   ]
  },
  {
   "cell_type": "code",
   "execution_count": null,
   "metadata": {
    "collapsed": true
   },
   "outputs": [],
   "source": [
    "from collections import OrderedDict\n",
    "model = nn.Sequential(OrderedDict([\n",
    "                      ('fc1', nn.Linear(input_size, hidden_sizes[0])),\n",
    "                      ('relu1', nn.ReLU()),\n",
    "                      ('fc2', nn.Linear(hidden_sizes[0], hidden_sizes[1])),\n",
    "                      ('relu2', nn.ReLU()),\n",
    "                      ('output', nn.Linear(hidden_sizes[1], output_size)),\n",
    "                      ('softmax', nn.Softmax(dim=1))]))\n",
    "model"
   ]
  },
  {
   "cell_type": "markdown",
   "metadata": {},
   "source": [
    "Now you can access layers either by integer or the name"
   ]
  },
  {
   "cell_type": "code",
   "execution_count": null,
   "metadata": {
    "collapsed": true
   },
   "outputs": [],
   "source": [
    "print(model[0])\n",
    "print(model.fc1)"
   ]
  },
  {
   "cell_type": "markdown",
   "metadata": {},
   "source": [
    "In the next notebook, we'll see how we can train a neural network to accuractly predict the numbers appearing in the MNIST images."
   ]
  }
 ],
 "metadata": {
  "kernelspec": {
   "display_name": "Python 3",
   "language": "python",
   "name": "python3"
  },
  "language_info": {
   "codemirror_mode": {
    "name": "ipython",
    "version": 3
   },
   "file_extension": ".py",
   "mimetype": "text/x-python",
   "name": "python",
   "nbconvert_exporter": "python",
   "pygments_lexer": "ipython3",
   "version": "3.7.1"
  }
 },
 "nbformat": 4,
 "nbformat_minor": 2
}
